{
 "cells": [
  {
   "cell_type": "code",
   "execution_count": 1,
   "metadata": {},
   "outputs": [],
   "source": [
    "# !pip install git+https://github.com/serge-m/pytorch-nn-tools.git@v0.3.3\n",
    "# !pip install torch_lr_finder==0.2.1"
   ]
  },
  {
   "cell_type": "code",
   "execution_count": 2,
   "metadata": {},
   "outputs": [],
   "source": [
    "import os\n",
    "from argparse import ArgumentParser, Namespace\n",
    "\n",
    "import pytorch_lightning as pl\n",
    "import torch\n",
    "import torch.nn.parallel\n",
    "import torch.utils.data\n",
    "import torch.utils.data.distributed\n",
    "import torchvision\n",
    "import torchvision.datasets as datasets\n",
    "import torchvision.models as models\n",
    "import torchvision.transforms as transforms\n",
    "from pytorch_lightning.callbacks import LearningRateLogger\n",
    "import numpy as np\n",
    "\n",
    "from model_base import ModelBase, get_main_model\n",
    "\n",
    "import matplotlib.pyplot as plt\n",
    "import torch.nn.functional as F\n",
    "from collections import defaultdict\n",
    "from typing import Dict, List, Callable, Union\n",
    "from pathlib import Path\n",
    "import json\n",
    "import time\n",
    "\n",
    "from fastprogress.fastprogress import master_bar, progress_bar\n",
    "from time import sleep\n",
    "\n",
    "\n",
    "\n",
    "import pytorch_nn_tools as pnt\n",
    "from pytorch_nn_tools.visual import ImgShow, tfm_vis_img, UnNormalize_, imagenet_stats\n",
    "from pytorch_nn_tools.train.metrics.processor import mod_name_train, mod_name_val, Marker\n",
    "from pytorch_nn_tools.train.metrics.processor import MetricAggregator, MetricLogger, MetricType\n",
    "from pytorch_nn_tools.train.progress import ProgressTracker\n",
    "from pytorch_nn_tools.convert import map_dict\n",
    "from pytorch_nn_tools.train.metrics.history_condition import HistoryCondition\n",
    "from pytorch_nn_tools.train.checkpoint import CheckpointSaver"
   ]
  },
  {
   "cell_type": "code",
   "execution_count": 3,
   "metadata": {},
   "outputs": [],
   "source": [
    "ish = ImgShow(ax=plt)"
   ]
  },
  {
   "cell_type": "code",
   "execution_count": 4,
   "metadata": {},
   "outputs": [],
   "source": [
    "def _train_dataset(path):\n",
    "    normalize = transforms.Normalize(\n",
    "        mean=[0.485, 0.456, 0.406],\n",
    "        std=[0.229, 0.224, 0.225],\n",
    "    )\n",
    "\n",
    "    train_dir = os.path.join(path, 'train')\n",
    "    train_dataset = datasets.ImageFolder(\n",
    "        train_dir,\n",
    "        transforms.Compose([\n",
    "            transforms.RandomResizedCrop(224),\n",
    "            transforms.RandomHorizontalFlip(),\n",
    "            transforms.ToTensor(),\n",
    "            normalize,\n",
    "        ]))\n",
    "    return train_dataset\n",
    "\n",
    "\n",
    "def _val_dataset(path):\n",
    "    normalize = transforms.Normalize(\n",
    "        mean=[0.485, 0.456, 0.406],\n",
    "        std=[0.229, 0.224, 0.225],\n",
    "    )\n",
    "    val_dir = os.path.join(path, 'val')\n",
    "    dataset = datasets.ImageFolder(val_dir, transforms.Compose(\n",
    "        [transforms.Resize(256), transforms.CenterCrop(224), transforms.ToTensor(), normalize, ]))\n",
    "    return dataset"
   ]
  },
  {
   "cell_type": "code",
   "execution_count": null,
   "metadata": {},
   "outputs": [],
   "source": []
  },
  {
   "cell_type": "code",
   "execution_count": 5,
   "metadata": {},
   "outputs": [],
   "source": [
    "num_workers = 8\n",
    "\n",
    "batch_size_train = 2\n",
    "batch_size_val = 2\n",
    "device = 'cpu'\n",
    "\n",
    "batch_size_train = 128\n",
    "batch_size_val = 16\n",
    "device = 'cuda'\n",
    "\n",
    "\n",
    "data_path = \"data/imagewoof2-320/\"\n",
    "\n",
    "train_dataloader = torch.utils.data.DataLoader(\n",
    "        dataset=_train_dataset(data_path),\n",
    "        batch_size=batch_size_train,\n",
    "        shuffle=True, \n",
    "        num_workers=num_workers,\n",
    "    )\n",
    "    \n",
    "val_dataloader = torch.utils.data.DataLoader(\n",
    "        dataset=_val_dataset(data_path),\n",
    "        batch_size=batch_size_val,\n",
    "        shuffle=False,\n",
    "        num_workers=num_workers,\n",
    "    )\n",
    "\n"
   ]
  },
  {
   "cell_type": "code",
   "execution_count": 6,
   "metadata": {},
   "outputs": [],
   "source": [
    "def accuracy(output, target, topk=(1,)):\n",
    "    \"\"\"Computes the accuracy over the k top predictions for the specified values of k\"\"\"\n",
    "    with torch.no_grad():\n",
    "        maxk = max(topk)\n",
    "        batch_size = target.size(0)\n",
    "\n",
    "        _, pred = output.topk(maxk, 1, True, True)\n",
    "        pred = pred.t()\n",
    "        correct = pred.eq(target.view(1, -1).expand_as(pred))\n",
    "\n",
    "        res = []\n",
    "        for k in topk:\n",
    "            correct_k = correct[:k].view(-1).float().sum(0, keepdim=True)\n",
    "            res.append(correct_k.mul_(100.0 / batch_size))\n",
    "        return res"
   ]
  },
  {
   "cell_type": "code",
   "execution_count": 7,
   "metadata": {},
   "outputs": [],
   "source": [
    "from tqdm import tqdm\n",
    "import datetime\n"
   ]
  },
  {
   "cell_type": "code",
   "execution_count": 8,
   "metadata": {},
   "outputs": [],
   "source": [
    "def to_device(batch, device):\n",
    "    return batch.to(device)\n",
    "\n"
   ]
  },
  {
   "cell_type": "code",
   "execution_count": 9,
   "metadata": {},
   "outputs": [],
   "source": [
    "from fastprogress.fastprogress import master_bar, progress_bar"
   ]
  },
  {
   "cell_type": "code",
   "execution_count": 10,
   "metadata": {},
   "outputs": [],
   "source": [
    "\n",
    "class PBars:\n",
    "    def __init__(self):\n",
    "        self._main = None\n",
    "        self._second = None\n",
    "        \n",
    "    def main(self, it, **kwargs):\n",
    "        self._main = master_bar(it, **kwargs)\n",
    "        return self._main\n",
    "    \n",
    "    def secondary(self, it, **kwargs):\n",
    "        if self._main is None:\n",
    "            raise RuntimeError(\"Cannot instantiate secondary progress bar. The main progress bar is not set.\")\n",
    "        self._second = progress_bar(it, parent=self._main, **kwargs)\n",
    "        return self._second\n",
    "        \n",
    "    def main_comment(self, comment):\n",
    "        self._main.main_bar.comment = comment"
   ]
  },
  {
   "cell_type": "code",
   "execution_count": null,
   "metadata": {},
   "outputs": [],
   "source": []
  },
  {
   "cell_type": "code",
   "execution_count": 11,
   "metadata": {},
   "outputs": [],
   "source": [
    "def now_as_str():\n",
    "    now = datetime.datetime.now()\n",
    "    return now.strftime(\"%Y%m%d_%H%M%s_%f\")\n",
    "\n",
    "class DummyLogger:\n",
    "    def debug(self, *args):\n",
    "        print(*args)\n",
    "\n",
    "\n",
    "class TrainerIO:\n",
    "    def __init__(self, log_dir: Union[Path, str], experiment_name: str, checkpoint_condition: Callable[[MetricType], bool]):\n",
    "        self.log_dir = Path(log_dir)\n",
    "        self.experiment_name = experiment_name\n",
    "        self.path_experiment = self.log_dir.joinpath(experiment_name)\n",
    "        self.path_checkpoints = self.path_experiment.joinpath(\"checkpoints\")\n",
    "        self.checkpoint_saver = CheckpointSaver(self.path_checkpoints, logger=DummyLogger())\n",
    "        self.checkpoint_condition = checkpoint_condition\n",
    "    \n",
    "    def create_metric_logger(self):\n",
    "        path_logs = self.path_experiment.joinpath(f\"{self.experiment_name}_{now_as_str()}\")\n",
    "        metric_logger = MetricLogger(path_logs)\n",
    "        return metric_logger\n",
    "    \n",
    "    def load_last(self, start_epoch: int, end_epoch: int, model, optimizer, scheduler) -> int:\n",
    "        last = self.checkpoint_saver.find_last(start_epoch, end_epoch)\n",
    "        if last is not None:\n",
    "            print(f\"found pretrained results for epoch {last}. Loading...\")\n",
    "            self.checkpoint_saver.load(model, optimizer, scheduler, last)\n",
    "            return last + 1\n",
    "        else:\n",
    "            return start_epoch\n",
    "    \n",
    "    def save_checkpoint(self, metrics: MetricType, model, optimizer, scheduler, epoch):\n",
    "        if self.checkpoint_condition(metrics): \n",
    "            self.checkpoint_saver.save(model, optimizer, scheduler, epoch)\n",
    "    "
   ]
  },
  {
   "cell_type": "code",
   "execution_count": 12,
   "metadata": {},
   "outputs": [],
   "source": [
    "class Trainer:\n",
    "    def __init__(self, device, trainer_io: TrainerIO,\n",
    "                continue_training: bool = False):\n",
    "        self.device = device\n",
    "        self.continue_training = continue_training\n",
    "        self.trainer_io = trainer_io\n",
    "        self.pbars = PBars()\n",
    "        \n",
    "        \n",
    "    def fit(self, model, optimizer, scheduler, start_epoch, end_epoch):\n",
    "        metric_logger = self.trainer_io.create_metric_logger()\n",
    "        \n",
    "        model = model.to(self.device)\n",
    "        \n",
    "        if self.continue_training:\n",
    "            start_epoch = self.trainer_io.load_last(start_epoch, end_epoch, model, optimizer, scheduler)\n",
    "\n",
    "        progr_train = ProgressTracker()\n",
    "        \n",
    "        for epoch in self.pbars.main(range(start_epoch, end_epoch)):\n",
    "            metric_aggregator = MetricAggregator()\n",
    "            self.train_epoch(\n",
    "                train_dataloader, progr_train,\n",
    "                model, optimizer, scheduler,  \n",
    "                metric_proc=mod_name_train+metric_aggregator+metric_logger,\n",
    "                pbars=self.pbars,\n",
    "                report_step=10,\n",
    "                tb_writer=metric_logger.writer\n",
    "            )\n",
    "            self.validate_epoch(\n",
    "                val_dataloader,\n",
    "                model,  \n",
    "                metric_proc=mod_name_val+metric_aggregator+metric_logger,\n",
    "                pbars=self.pbars,\n",
    "                \n",
    "            )\n",
    "            \n",
    "            aggregated = map_dict(metric_aggregator.aggregate(), key_fn=lambda key: f\"avg.{key}\")\n",
    "            metric_logger({\n",
    "                **aggregated, \n",
    "                **{f\"lr_{i}\": lr for i, lr in enumerate(scheduler.get_last_lr())},\n",
    "                Marker.EPOCH: epoch,\n",
    "            })\n",
    "            self.pbars.main_comment(f\"{aggregated}\")\n",
    "            \n",
    "            \n",
    "                        \n",
    "            self.trainer_io.save_checkpoint(aggregated, model, optimizer, scheduler, epoch)\n",
    "            \n",
    "        metric_logger.close()\n",
    "            \n",
    "    def train_epoch(self, data_loader, progr, model, optimizer, scheduler, metric_proc, pbars, report_step=1,\n",
    "                   tb_writer=None):\n",
    "        model.train()\n",
    "                \n",
    "        for batch_idx, (images, target) in enumerate(progr.track(pbars.secondary(data_loader))):\n",
    "            optimizer.zero_grad()\n",
    "            \n",
    "            images = to_device(images, self.device)\n",
    "            target = to_device(target, self.device)\n",
    "            \n",
    "            output = model(images)\n",
    "            loss = F.cross_entropy(output, target)\n",
    "            loss.backward()\n",
    "            optimizer.step()\n",
    "            if progr.cnt_total_iter % report_step == 0:\n",
    "                with torch.no_grad():\n",
    "                    acc1, acc5 = accuracy(output, target, topk=(1, 5))\n",
    "\n",
    "                metric_proc({\n",
    "                    'loss': loss, 'acc1': acc1, 'acc5': acc5, Marker.ITERATION: progr.cnt_total_iter,\n",
    "                    **{f\"lr_{i}\": lr for i, lr in enumerate(scheduler.get_last_lr())},\n",
    "                })\n",
    "                \n",
    "            if batch_idx == 0:   \n",
    "                if tb_writer:\n",
    "                    vis = images.detach().clone()\n",
    "                    for v in vis:\n",
    "                        v[:] = UnNormalize_(**imagenet_stats)(v)\n",
    "                    grid = torchvision.utils.make_grid(vis)\n",
    "                    tb_writer.add_image('images', grid, progr.cnt_total_iter)\n",
    "                    \n",
    "            scheduler.step()\n",
    "\n",
    "    def validate_epoch(self, data_loader, model, metric_proc, pbars):\n",
    "        model.eval()\n",
    "        \n",
    "        with torch.no_grad():\n",
    "            for images, target in pbars.secondary(data_loader):\n",
    "                images = to_device(images, self.device)\n",
    "                target = to_device(target, self.device)\n",
    "\n",
    "                output = model(images)\n",
    "                loss = F.cross_entropy(output, target)\n",
    "                acc1, acc5 = accuracy(output, target, topk=(1, 5))\n",
    "                \n",
    "                metric_proc(dict(loss=loss, acc1=acc1, acc5=acc5))"
   ]
  },
  {
   "cell_type": "code",
   "execution_count": 13,
   "metadata": {},
   "outputs": [],
   "source": [
    "model = models.resnet18(pretrained=False)        \n",
    "\n",
    "optimizer = torch.optim.SGD([\n",
    "    {\n",
    "        'name': 'main_model',\n",
    "        'params': model.parameters(),\n",
    "        'lr': 1e-10,\n",
    "        'momentum': 0.9,\n",
    "        'weight_decay': 1e-4,\n",
    "    }\n",
    "])\n",
    "\n"
   ]
  },
  {
   "cell_type": "code",
   "execution_count": 14,
   "metadata": {},
   "outputs": [
    {
     "data": {
      "application/vnd.jupyter.widget-view+json": {
       "model_id": "ff2ed706ff50487984b52f47cc9dfd0c",
       "version_major": 2,
       "version_minor": 0
      },
      "text/plain": [
       "HBox(children=(HTML(value=''), FloatProgress(value=0.0, max=50.0), HTML(value='')))"
      ]
     },
     "metadata": {},
     "output_type": "display_data"
    },
    {
     "name": "stdout",
     "output_type": "stream",
     "text": [
      "\n",
      "Learning rate search finished. See the graph with {finder_name}.plot()\n",
      "LR suggestion: steepest gradient\n",
      "Suggested LR: 1.21E-02\n"
     ]
    },
    {
     "data": {
      "image/png": "[encoded data removed]",
      "text/plain": [
       "<Figure size 432x288 with 1 Axes>"
      ]
     },
     "metadata": {
      "needs_background": "light"
     },
     "output_type": "display_data"
    }
   ],
   "source": [
    "from torch_lr_finder import LRFinder\n",
    "\n",
    "criterion = torch.nn.CrossEntropyLoss()\n",
    "lr_finder = LRFinder(model, optimizer, criterion, device=device)\n",
    "lr_finder.range_test(train_dataloader, val_loader=None, end_lr=10, num_iter=50, step_mode=\"exp\")\n",
    "_, recommended_lr = lr_finder.plot(log_lr=False)\n",
    "lr_finder.reset()"
   ]
  },
  {
   "cell_type": "code",
   "execution_count": 15,
   "metadata": {
    "scrolled": false
   },
   "outputs": [],
   "source": [
    "# model = models.resnet18(pretrained=False)        \n",
    "\n",
    "# optimizer = torch.optim.SGD([\n",
    "#     {\n",
    "#         'name': 'main_model',\n",
    "#         'params': model.parameters(),\n",
    "#         'lr': 0.1,\n",
    "#         'momentum': 0.9,\n",
    "#         'weight_decay': 1e-4,\n",
    "#     }\n",
    "# ])\n",
    "\n",
    "# scheduler = torch.optim.lr_scheduler.LambdaLR(\n",
    "#     optimizer,\n",
    "#     lambda epoch: 0.1 ** (epoch // 30)\n",
    "# )\n",
    "\n",
    "# trainer_io = TrainerIO(\n",
    "#     log_dir=\"./logs/\", experiment_name=\"experiment1_lr0.1\", \n",
    "#     checkpoint_condition=HistoryCondition(\n",
    "#         'avg.val.acc1', \n",
    "#         lambda hist: len(hist) == 1 or hist[-1] > max(hist[:-1])\n",
    "#     )\n",
    "# )\n",
    "\n",
    "# trainer = Trainer(device=device, trainer_io=trainer_io, continue_training=False)\n",
    "\n",
    "# trainer.fit(\n",
    "#     model, optimizer, scheduler,\n",
    "#     start_epoch=0, end_epoch=40\n",
    "# )"
   ]
  },
  {
   "cell_type": "code",
   "execution_count": 16,
   "metadata": {},
   "outputs": [],
   "source": [
    "# model = models.resnet18(pretrained=False)        \n",
    "\n",
    "# optimizer = torch.optim.SGD([\n",
    "#     {\n",
    "#         'name': 'main_model',\n",
    "#         'params': model.parameters(),\n",
    "#         'lr': 0.02,\n",
    "#         'momentum': 0.9,\n",
    "#         'weight_decay': 1e-4,\n",
    "#     }\n",
    "# ])\n",
    "\n",
    "# scheduler = torch.optim.lr_scheduler.LambdaLR(\n",
    "#     optimizer,\n",
    "#     lambda epoch: 0.1 ** (epoch // 30)\n",
    "# )\n",
    "\n",
    "# trainer_io = TrainerIO(\n",
    "#     log_dir=\"./logs/\", experiment_name=\"experiment1_lr0.02\", \n",
    "#     checkpoint_condition=HistoryCondition(\n",
    "#         'avg.val.acc1', \n",
    "#         lambda hist: len(hist) == 1 or hist[-1] > max(hist[:-1])\n",
    "#     )\n",
    "# )\n",
    "\n",
    "# trainer = Trainer(device=device, trainer_io=trainer_io, continue_training=False)\n",
    "\n",
    "# trainer.fit(\n",
    "#     model, optimizer, scheduler,\n",
    "#     start_epoch=0, end_epoch=40\n",
    "# )"
   ]
  },
  {
   "cell_type": "code",
   "execution_count": 17,
   "metadata": {},
   "outputs": [
    {
     "data": {
      "text/html": [],
      "text/plain": [
       "<IPython.core.display.HTML object>"
      ]
     },
     "metadata": {},
     "output_type": "display_data"
    },
    {
     "name": "stdout",
     "output_type": "stream",
     "text": [
      "saved meta data {'epoch': 0, 'model': 'epoch_00000.pth', 'scheduler': 'epoch_00000.scheduler.pth', 'optimizer': 'epoch_00000.optimizer.pth'} to logs/experiment1_onecycle_lr0.02/checkpoints/epoch_00000.meta.json\n",
      "saved meta data {'epoch': 1, 'model': 'epoch_00001.pth', 'scheduler': 'epoch_00001.scheduler.pth', 'optimizer': 'epoch_00001.optimizer.pth'} to logs/experiment1_onecycle_lr0.02/checkpoints/epoch_00001.meta.json\n",
      "saved meta data {'epoch': 3, 'model': 'epoch_00003.pth', 'scheduler': 'epoch_00003.scheduler.pth', 'optimizer': 'epoch_00003.optimizer.pth'} to logs/experiment1_onecycle_lr0.02/checkpoints/epoch_00003.meta.json\n",
      "saved meta data {'epoch': 4, 'model': 'epoch_00004.pth', 'scheduler': 'epoch_00004.scheduler.pth', 'optimizer': 'epoch_00004.optimizer.pth'} to logs/experiment1_onecycle_lr0.02/checkpoints/epoch_00004.meta.json\n",
      "saved meta data {'epoch': 5, 'model': 'epoch_00005.pth', 'scheduler': 'epoch_00005.scheduler.pth', 'optimizer': 'epoch_00005.optimizer.pth'} to logs/experiment1_onecycle_lr0.02/checkpoints/epoch_00005.meta.json\n",
      "saved meta data {'epoch': 6, 'model': 'epoch_00006.pth', 'scheduler': 'epoch_00006.scheduler.pth', 'optimizer': 'epoch_00006.optimizer.pth'} to logs/experiment1_onecycle_lr0.02/checkpoints/epoch_00006.meta.json\n",
      "saved meta data {'epoch': 7, 'model': 'epoch_00007.pth', 'scheduler': 'epoch_00007.scheduler.pth', 'optimizer': 'epoch_00007.optimizer.pth'} to logs/experiment1_onecycle_lr0.02/checkpoints/epoch_00007.meta.json\n",
      "saved meta data {'epoch': 11, 'model': 'epoch_00011.pth', 'scheduler': 'epoch_00011.scheduler.pth', 'optimizer': 'epoch_00011.optimizer.pth'} to logs/experiment1_onecycle_lr0.02/checkpoints/epoch_00011.meta.json\n",
      "saved meta data {'epoch': 14, 'model': 'epoch_00014.pth', 'scheduler': 'epoch_00014.scheduler.pth', 'optimizer': 'epoch_00014.optimizer.pth'} to logs/experiment1_onecycle_lr0.02/checkpoints/epoch_00014.meta.json\n",
      "saved meta data {'epoch': 15, 'model': 'epoch_00015.pth', 'scheduler': 'epoch_00015.scheduler.pth', 'optimizer': 'epoch_00015.optimizer.pth'} to logs/experiment1_onecycle_lr0.02/checkpoints/epoch_00015.meta.json\n",
      "saved meta data {'epoch': 16, 'model': 'epoch_00016.pth', 'scheduler': 'epoch_00016.scheduler.pth', 'optimizer': 'epoch_00016.optimizer.pth'} to logs/experiment1_onecycle_lr0.02/checkpoints/epoch_00016.meta.json\n",
      "saved meta data {'epoch': 17, 'model': 'epoch_00017.pth', 'scheduler': 'epoch_00017.scheduler.pth', 'optimizer': 'epoch_00017.optimizer.pth'} to logs/experiment1_onecycle_lr0.02/checkpoints/epoch_00017.meta.json\n",
      "saved meta data {'epoch': 22, 'model': 'epoch_00022.pth', 'scheduler': 'epoch_00022.scheduler.pth', 'optimizer': 'epoch_00022.optimizer.pth'} to logs/experiment1_onecycle_lr0.02/checkpoints/epoch_00022.meta.json\n",
      "saved meta data {'epoch': 25, 'model': 'epoch_00025.pth', 'scheduler': 'epoch_00025.scheduler.pth', 'optimizer': 'epoch_00025.optimizer.pth'} to logs/experiment1_onecycle_lr0.02/checkpoints/epoch_00025.meta.json\n",
      "saved meta data {'epoch': 26, 'model': 'epoch_00026.pth', 'scheduler': 'epoch_00026.scheduler.pth', 'optimizer': 'epoch_00026.optimizer.pth'} to logs/experiment1_onecycle_lr0.02/checkpoints/epoch_00026.meta.json\n",
      "saved meta data {'epoch': 28, 'model': 'epoch_00028.pth', 'scheduler': 'epoch_00028.scheduler.pth', 'optimizer': 'epoch_00028.optimizer.pth'} to logs/experiment1_onecycle_lr0.02/checkpoints/epoch_00028.meta.json\n",
      "saved meta data {'epoch': 29, 'model': 'epoch_00029.pth', 'scheduler': 'epoch_00029.scheduler.pth', 'optimizer': 'epoch_00029.optimizer.pth'} to logs/experiment1_onecycle_lr0.02/checkpoints/epoch_00029.meta.json\n",
      "saved meta data {'epoch': 32, 'model': 'epoch_00032.pth', 'scheduler': 'epoch_00032.scheduler.pth', 'optimizer': 'epoch_00032.optimizer.pth'} to logs/experiment1_onecycle_lr0.02/checkpoints/epoch_00032.meta.json\n",
      "saved meta data {'epoch': 33, 'model': 'epoch_00033.pth', 'scheduler': 'epoch_00033.scheduler.pth', 'optimizer': 'epoch_00033.optimizer.pth'} to logs/experiment1_onecycle_lr0.02/checkpoints/epoch_00033.meta.json\n",
      "saved meta data {'epoch': 34, 'model': 'epoch_00034.pth', 'scheduler': 'epoch_00034.scheduler.pth', 'optimizer': 'epoch_00034.optimizer.pth'} to logs/experiment1_onecycle_lr0.02/checkpoints/epoch_00034.meta.json\n",
      "saved meta data {'epoch': 35, 'model': 'epoch_00035.pth', 'scheduler': 'epoch_00035.scheduler.pth', 'optimizer': 'epoch_00035.optimizer.pth'} to logs/experiment1_onecycle_lr0.02/checkpoints/epoch_00035.meta.json\n",
      "saved meta data {'epoch': 36, 'model': 'epoch_00036.pth', 'scheduler': 'epoch_00036.scheduler.pth', 'optimizer': 'epoch_00036.optimizer.pth'} to logs/experiment1_onecycle_lr0.02/checkpoints/epoch_00036.meta.json\n",
      "saved meta data {'epoch': 37, 'model': 'epoch_00037.pth', 'scheduler': 'epoch_00037.scheduler.pth', 'optimizer': 'epoch_00037.optimizer.pth'} to logs/experiment1_onecycle_lr0.02/checkpoints/epoch_00037.meta.json\n",
      "saved meta data {'epoch': 39, 'model': 'epoch_00039.pth', 'scheduler': 'epoch_00039.scheduler.pth', 'optimizer': 'epoch_00039.optimizer.pth'} to logs/experiment1_onecycle_lr0.02/checkpoints/epoch_00039.meta.json\n"
     ]
    }
   ],
   "source": [
    "model = models.resnet18(pretrained=False)        \n",
    "\n",
    "optimizer = torch.optim.SGD([\n",
    "    {\n",
    "        'name': 'main_model',\n",
    "        'params': model.parameters(),\n",
    "        'lr': 0.02,\n",
    "        'momentum': 0.9,\n",
    "        'weight_decay': 1e-4,\n",
    "    }\n",
    "])\n",
    "\n",
    "num_epochs = 40\n",
    "scheduler = torch.optim.lr_scheduler.OneCycleLR(\n",
    "    optimizer,\n",
    "    max_lr=0.02,\n",
    "    epochs=num_epochs,\n",
    "    steps_per_epoch=len(train_dataloader)\n",
    ")\n",
    "\n",
    "trainer_io = TrainerIO(\n",
    "    log_dir=\"./logs/\", experiment_name=\"experiment1_onecycle_lr0.02\", \n",
    "    checkpoint_condition=HistoryCondition(\n",
    "        'avg.val.acc1', \n",
    "        lambda hist: len(hist) == 1 or hist[-1] > max(hist[:-1])\n",
    "    )\n",
    ")\n",
    "\n",
    "trainer = Trainer(device=device, trainer_io=trainer_io, continue_training=False)\n",
    "\n",
    "trainer.fit(\n",
    "    model, optimizer, scheduler,\n",
    "    start_epoch=0, end_epoch=num_epochs\n",
    ")"
   ]
  },
  {
   "cell_type": "code",
   "execution_count": null,
   "metadata": {},
   "outputs": [],
   "source": []
  },
  {
   "cell_type": "code",
   "execution_count": null,
   "metadata": {},
   "outputs": [],
   "source": [
    "1"
   ]
  },
  {
   "cell_type": "code",
   "execution_count": null,
   "metadata": {
    "scrolled": true
   },
   "outputs": [],
   "source": [
    "# !rm checkpoints/epoch_00001*\n",
    "# !rm checkpoints/epoch_00002*\n",
    "# !rm checkpoints/epoch_00003*\n",
    "# !rm logs/experiment1/checkpoints/epoch_00004*"
   ]
  },
  {
   "cell_type": "code",
   "execution_count": null,
   "metadata": {},
   "outputs": [],
   "source": []
  }
 ],
 "metadata": {
  "kernelspec": {
   "display_name": "Python 3",
   "language": "python",
   "name": "python3"
  },
  "language_info": {
   "codemirror_mode": {
    "name": "ipython",
    "version": 3
   },
   "file_extension": ".py",
   "mimetype": "text/x-python",
   "name": "python",
   "nbconvert_exporter": "python",
   "pygments_lexer": "ipython3",
   "version": "3.6.9"
  }
 },
 "nbformat": 4,
 "nbformat_minor": 4
}
