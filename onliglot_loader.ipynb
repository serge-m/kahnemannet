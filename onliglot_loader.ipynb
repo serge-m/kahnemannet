{
 "cells": [
  {
   "cell_type": "code",
   "execution_count": null,
   "metadata": {},
   "outputs": [],
   "source": [
    "import torchvision\n",
    "import torchvision.transforms as transforms\n",
    "\n",
    "from torch.utils.data import DataLoader\n",
    "# import datasets.omniglot as om            \n",
    "import random\n",
    "import matplotlib.pyplot as plt\n",
    "train_transform = transforms.Compose(\n",
    "    [transforms.Resize((84, 84)),\n",
    "     transforms.ToTensor()])"
   ]
  },
  {
   "cell_type": "code",
   "execution_count": null,
   "metadata": {},
   "outputs": [],
   "source": [
    "ds_train = torchvision.datasets.Omniglot(\n",
    "    \"../data/omni/\", background=True, transform=\n",
    "    transforms.Compose([\n",
    "        transforms.Resize((28,28)),\n",
    "        transforms.ToTensor(),\n",
    "        transforms.Normalize(mean=[0.92206*256], std=[0.08426*256*256]),\n",
    "        \n",
    "    ])\n",
    ")\n"
   ]
  },
  {
   "cell_type": "code",
   "execution_count": null,
   "metadata": {},
   "outputs": [],
   "source": [
    "# ds_train._flat_character_images"
   ]
  },
  {
   "cell_type": "code",
   "execution_count": null,
   "metadata": {},
   "outputs": [],
   "source": [
    "# ds_train._flat_character_images"
   ]
  },
  {
   "cell_type": "code",
   "execution_count": null,
   "metadata": {},
   "outputs": [],
   "source": [
    "from collections import defaultdict\n",
    "def alphabet_to_list_instances(ds):\n",
    "    res = defaultdict(list)\n",
    "    for i, (img_path, target) in enumerate(ds._flat_character_images):\n",
    "        alphabet = ds_train._characters[target].split('/', maxsplit=1)[0]\n",
    "        res[alphabet].append(i)\n",
    "        \n",
    "    return res\n",
    "alphabet_to_indices = alphabet_to_list_instances(ds_train)"
   ]
  },
  {
   "cell_type": "code",
   "execution_count": null,
   "metadata": {},
   "outputs": [],
   "source": [
    "list(alphabet_to_indices.keys())"
   ]
  },
  {
   "cell_type": "code",
   "execution_count": null,
   "metadata": {},
   "outputs": [],
   "source": [
    "from ds_io.continuous_sequence import ContinuousSequenceSampler,RandIntSampler\n",
    "\n",
    "rs = random.Random(0)\n",
    "sampler_train = ContinuousSequenceSampler(ds_train, list(alphabet_to_indices.values()), RandIntSampler(rs, 3, 20), random_state=rs)"
   ]
  },
  {
   "cell_type": "code",
   "execution_count": null,
   "metadata": {},
   "outputs": [],
   "source": [
    "dl_train = DataLoader(dataset=ds_train, sampler=sampler_train, batch_size=20)\n",
    "i_train = iter(dl_train)"
   ]
  },
  {
   "cell_type": "code",
   "execution_count": null,
   "metadata": {},
   "outputs": [],
   "source": [
    "# dl_train = DataLoader(dataset=om_t, sampler=sampler_train, batch_size=20)\n",
    "# i_train = iter(dl_train)\n"
   ]
  },
  {
   "cell_type": "code",
   "execution_count": null,
   "metadata": {},
   "outputs": [],
   "source": [
    "def make_grid(b, **kwargs):\n",
    "    mi, ma = b.min(), b.max()\n",
    "    d = ma - mi\n",
    "    if d == 0:\n",
    "        d = 1.\n",
    "    b = (b - mi ) / d\n",
    "    grid_img = torchvision.utils.make_grid(b, **kwargs)\n",
    "    return grid_img \n",
    "\n",
    "b = next(i_train)\n",
    "grid_img = make_grid(b[0], nrow=5)\n",
    "plt.imshow(grid_img.permute(1, 2, 0))"
   ]
  },
  {
   "cell_type": "code",
   "execution_count": null,
   "metadata": {},
   "outputs": [],
   "source": [
    "transform = transforms.Compose(\n",
    "    [transforms.ToTensor(),\n",
    "     transforms.Normalize((0.5, 0.5, 0.5), (0.5, 0.5, 0.5))])\n",
    "\n",
    "\n",
    "\n",
    "trainset = torchvision.datasets.CIFAR10(root='./data', train=True,\n",
    "                                        download=True, transform=transform)\n",
    "\n",
    "\n",
    "testset = torchvision.datasets.CIFAR10(root='./data', train=False,\n",
    "                                       download=True, transform=transform)\n",
    "testloader = DataLoader(testset, batch_size=4,\n",
    "                                         shuffle=False, num_workers=2)"
   ]
  },
  {
   "cell_type": "code",
   "execution_count": null,
   "metadata": {},
   "outputs": [],
   "source": [
    "ds = trainset\n",
    "\n",
    "subsets = defaultdict(list)\n",
    "for i, target in enumerate(ds.targets):\n",
    "    subsets[target // (len(ds.classes) // 5)].append(i)\n",
    "    "
   ]
  },
  {
   "cell_type": "code",
   "execution_count": null,
   "metadata": {},
   "outputs": [],
   "source": [
    "# subsets"
   ]
  },
  {
   "cell_type": "code",
   "execution_count": null,
   "metadata": {},
   "outputs": [],
   "source": [
    "sampler_train = ContinuousSequenceSampler(trainset, list(subsets.values()), RandIntSampler(rs, 8, 8), random_state=rs)\n",
    "trainloader = DataLoader(trainset, batch_size=16, sampler=sampler_train, num_workers=2)"
   ]
  },
  {
   "cell_type": "code",
   "execution_count": null,
   "metadata": {},
   "outputs": [],
   "source": [
    "i_train = iter(trainloader)"
   ]
  },
  {
   "cell_type": "code",
   "execution_count": null,
   "metadata": {},
   "outputs": [],
   "source": [
    "b = next(i_train)\n",
    "print(b[1])\n",
    "grid_img = make_grid(b[0], nrow=4)\n",
    "plt.imshow(grid_img.permute(1, 2, 0))"
   ]
  },
  {
   "cell_type": "code",
   "execution_count": null,
   "metadata": {},
   "outputs": [],
   "source": [
    "123\n"
   ]
  },
  {
   "cell_type": "code",
   "execution_count": null,
   "metadata": {},
   "outputs": [],
   "source": [
    "123"
   ]
  },
  {
   "cell_type": "code",
   "execution_count": null,
   "metadata": {},
   "outputs": [],
   "source": []
  }
 ],
 "metadata": {
  "kernelspec": {
   "display_name": "Python 3",
   "language": "python",
   "name": "python3"
  },
  "language_info": {
   "codemirror_mode": {
    "name": "ipython",
    "version": 3
   },
   "file_extension": ".py",
   "mimetype": "text/x-python",
   "name": "python",
   "nbconvert_exporter": "python",
   "pygments_lexer": "ipython3",
   "version": "3.6.9"
  }
 },
 "nbformat": 4,
 "nbformat_minor": 4
}
