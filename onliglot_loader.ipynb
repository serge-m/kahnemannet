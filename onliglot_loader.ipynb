{
 "cells": [
  {
   "cell_type": "code",
   "execution_count": null,
   "metadata": {},
   "outputs": [],
   "source": [
    "import torchvision\n",
    "import torchvision.transforms as transforms\n",
    "\n",
    "from torch.utils.data import DataLoader\n",
    "# import datasets.omniglot as om            \n",
    "import random\n",
    "import matplotlib.pyplot as plt\n",
    "train_transform = transforms.Compose(\n",
    "    [transforms.Resize((84, 84)),\n",
    "     transforms.ToTensor()])\n",
    "\n",
    "\n",
    "# ds_train = om.Omniglot(\"../data/omni/\", background=True, download=True, train=True, transform=train_transform, all=all)"
   ]
  },
  {
   "cell_type": "code",
   "execution_count": null,
   "metadata": {},
   "outputs": [],
   "source": [
    "ds_train = torchvision.datasets.Omniglot(\n",
    "    \"../data/omni/\", background=True, transform=\n",
    "    transforms.Compose([\n",
    "        transforms.Resize((28,28)),\n",
    "        transforms.ToTensor(),\n",
    "        transforms.Normalize(mean=[0.92206*256], std=[0.08426*256*256]),\n",
    "        \n",
    "    ])\n",
    ")\n"
   ]
  },
  {
   "cell_type": "code",
   "execution_count": null,
   "metadata": {},
   "outputs": [],
   "source": [
    "# ds_train._flat_character_images"
   ]
  },
  {
   "cell_type": "code",
   "execution_count": null,
   "metadata": {},
   "outputs": [],
   "source": [
    "ds_train._flat_character_images"
   ]
  },
  {
   "cell_type": "code",
   "execution_count": null,
   "metadata": {},
   "outputs": [],
   "source": [
    "from collections import defaultdict\n",
    "def alphabet_to_list_instances(ds):\n",
    "    res = defaultdict(list)\n",
    "    for i, (img_path, target) in enumerate(ds._flat_character_images):\n",
    "        alphabet = ds_train._characters[target].split('/', maxsplit=1)[0]\n",
    "        res[alphabet].append(i)\n",
    "        \n",
    "    return res\n",
    "alphabet_to_indices = alphabet_to_list_instances(ds_train)"
   ]
  },
  {
   "cell_type": "code",
   "execution_count": null,
   "metadata": {},
   "outputs": [],
   "source": [
    "list(alphabet_to_indices.keys())"
   ]
  },
  {
   "cell_type": "code",
   "execution_count": null,
   "metadata": {},
   "outputs": [],
   "source": [
    "from torch.utils.data import Sampler\n",
    "from typing import List, Dict\n",
    "    \n",
    "class ContinuousSequenceSampler(Sampler):\n",
    "    r\"\"\"\n",
    "    Samples elements in sequences of random length. Each sequence contains elements from one class.\n",
    "    \"\"\"\n",
    "\n",
    "    def __init__(self, class_to_indices: Dict, min_seq_len, max_seq_len, seed=None):\n",
    "        self.rs = random.Random(seed)\n",
    "        self.min_len, self.max_len = min_seq_len, max_seq_len\n",
    "        self.iterators = {\n",
    "            cl: iter(self.rs.sample(indices, k=len(indices))) # permutation, sample without replacement\n",
    "            for cl, indices in class_to_indices.items()\n",
    "        }\n",
    "        self.non_empty_classes = list(self.iterators.keys())\n",
    "        total_len = sum([len(indices) for indices in class_to_indices.values()])\n",
    "        self._len = total_len\n",
    "\n",
    "    def __iter__(self):\n",
    "        while self.non_empty_classes:\n",
    "            cl = self.rs.choice(self.non_empty_classes)\n",
    "            seq_len = self.rs.randint(self.min_len, self.max_len)\n",
    "            it = self.iterators[cl]\n",
    "            for i in range(seq_len):\n",
    "                try:\n",
    "                    yield next(it)\n",
    "                except StopIteration:\n",
    "                    self.non_empty_classes.remove(cl)\n",
    "                    break\n",
    "\n",
    "    def __len__(self):\n",
    "        return self._len"
   ]
  },
  {
   "cell_type": "code",
   "execution_count": null,
   "metadata": {},
   "outputs": [],
   "source": [
    "d = 'abcdef'\n",
    "for seed in range(1000):\n",
    "    sampler = ContinuousSequenceSampler({1:[0,1,5], 2:[2,3], 3:[4]}, 2, 3, seed=seed)\n",
    "    assert sorted(iter(sampler)) == sorted(range(6))\n",
    "#     == 'abcdef'\n",
    "# list(sampler)"
   ]
  },
  {
   "cell_type": "code",
   "execution_count": null,
   "metadata": {},
   "outputs": [],
   "source": [
    "sampler = ContinuousSequenceSampler({1:[0,1,5], 2:[2,3,4]}, 3, 3, seed=None)\n",
    "list(sampler)"
   ]
  },
  {
   "cell_type": "code",
   "execution_count": null,
   "metadata": {},
   "outputs": [],
   "source": [
    "sampler_train = ContinuousSequenceSampler(alphabet_to_indices, min_seq_len=3, max_seq_len=20, seed=0)\n",
    "# list(sampler_train)"
   ]
  },
  {
   "cell_type": "code",
   "execution_count": null,
   "metadata": {},
   "outputs": [],
   "source": [
    "dl_train = DataLoader(dataset=ds_train, sampler=sampler_train, batch_size=20)\n",
    "i_train = iter(dl_train)"
   ]
  },
  {
   "cell_type": "code",
   "execution_count": null,
   "metadata": {},
   "outputs": [],
   "source": [
    "# dl_train = DataLoader(dataset=om_t, sampler=sampler_train, batch_size=20)\n",
    "# i_train = iter(dl_train)\n"
   ]
  },
  {
   "cell_type": "code",
   "execution_count": null,
   "metadata": {},
   "outputs": [],
   "source": [
    "def make_grid(b, **kwargs):\n",
    "    mi, ma = b.min(), b.max()\n",
    "    d = ma - mi\n",
    "    if d == 0:\n",
    "        d = 1.\n",
    "    b = (b - mi ) / d\n",
    "    grid_img = torchvision.utils.make_grid(b, **kwargs)\n",
    "    return grid_img \n",
    "\n",
    "b = next(i_train)\n",
    "grid_img = make_grid(b[0], nrow=5)\n",
    "plt.imshow(grid_img.permute(1, 2, 0))"
   ]
  },
  {
   "cell_type": "code",
   "execution_count": null,
   "metadata": {},
   "outputs": [],
   "source": []
  }
 ],
 "metadata": {
  "kernelspec": {
   "display_name": "Python 3",
   "language": "python",
   "name": "python3"
  },
  "language_info": {
   "codemirror_mode": {
    "name": "ipython",
    "version": 3
   },
   "file_extension": ".py",
   "mimetype": "text/x-python",
   "name": "python",
   "nbconvert_exporter": "python",
   "pygments_lexer": "ipython3",
   "version": "3.6.9"
  }
 },
 "nbformat": 4,
 "nbformat_minor": 4
}
